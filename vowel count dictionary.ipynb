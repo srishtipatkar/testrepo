{
 "cells": [
  {
   "cell_type": "code",
   "execution_count": 33,
   "metadata": {},
   "outputs": [
    {
     "name": "stdout",
     "output_type": "stream",
     "text": [
      "enter a sentencemany many happy returns of the birthday\n"
     ]
    }
   ],
   "source": [
    "sentence=input(\"enter a sentence\")"
   ]
  },
  {
   "cell_type": "code",
   "execution_count": 38,
   "metadata": {},
   "outputs": [],
   "source": [
    "vowels=['a','e','i','o','u']"
   ]
  },
  {
   "cell_type": "code",
   "execution_count": 45,
   "metadata": {},
   "outputs": [],
   "source": [
    "words=sentence.split()\n",
    "vowel_count={}"
   ]
  },
  {
   "cell_type": "code",
   "execution_count": 46,
   "metadata": {},
   "outputs": [],
   "source": [
    "for word in words:\n",
    "    for letter in word:\n",
    "        if letter in vowels:\n",
    "            if vowel_count.get(letter)==None:\n",
    "                vowel_count[letter]=[word]\n",
    "            else:\n",
    "                if word in vowel_count.get(letter):\n",
    "                    continue\n",
    "                else:\n",
    "                    vowel_count.get(letter).append(word)\n",
    "                    #vowel_count[letter]+={letter:word}"
   ]
  },
  {
   "cell_type": "code",
   "execution_count": 47,
   "metadata": {},
   "outputs": [
    {
     "name": "stdout",
     "output_type": "stream",
     "text": [
      "{'a': ['many', 'happy', 'birthday'], 'e': ['returns', 'the'], 'u': ['returns'], 'o': ['of'], 'i': ['birthday']}\n"
     ]
    }
   ],
   "source": [
    "print(vowel_count)"
   ]
  }
 ],
 "metadata": {
  "kernelspec": {
   "display_name": "Python 3",
   "language": "python",
   "name": "python3"
  },
  "language_info": {
   "codemirror_mode": {
    "name": "ipython",
    "version": 3
   },
   "file_extension": ".py",
   "mimetype": "text/x-python",
   "name": "python",
   "nbconvert_exporter": "python",
   "pygments_lexer": "ipython3",
   "version": "3.6.7"
  }
 },
 "nbformat": 4,
 "nbformat_minor": 2
}
